{
 "cells": [
  {
   "cell_type": "markdown",
   "id": "d53aff47-b3dc-4bc5-91ea-77c55fa085f9",
   "metadata": {},
   "source": [
    "# About\n",
    "- In this notebook, we explore the effect of decaying and growing signals on the Fourier transform.\n",
    "    - That is with $a \\neq 1$\n",
    "- We also see what happens when we compute the chirp spectrum instead, with $r \\neq 1$\n",
    "- Specifically we explore what happens when $r = a$"
   ]
  },
  {
   "cell_type": "code",
   "execution_count": null,
   "id": "18f10ab2-45a8-4514-8e4a-b9c5e0ac8333",
   "metadata": {},
   "outputs": [],
   "source": [
    "import numpy as np\n",
    "import matplotlib.pyplot as plt\n",
    "from signal_analysis import *\n",
    "\n",
    "import ipywidgets as widgets\n",
    "from IPython.display import display"
   ]
  },
  {
   "cell_type": "markdown",
   "id": "9ead9c7e-d845-4cd6-8c20-e340e3e0a1ed",
   "metadata": {},
   "source": [
    "# Single Sinusoid\n",
    "- Assume a signal containing single decaying sinusoid.\n",
    "- Play with the frequency f1, the radius of the signal a, and the radius of the chirp spectrum computation r.\n",
    "- Observe what happens to the magnitude and the phase spectrum.\n",
    "- Which radius do we observe the least error?"
   ]
  },
  {
   "cell_type": "code",
   "execution_count": null,
   "id": "d86e6159-476f-4039-b3b1-c1c2a717ec0e",
   "metadata": {
    "editable": true,
    "slideshow": {
     "slide_type": ""
    },
    "tags": []
   },
   "outputs": [],
   "source": [
    "def cs_play(f1, a, r):\n",
    "    x1, _ = generate_signal(fm = f1, a = a)\n",
    "    x = x1 \n",
    "    mag, ph = cs_basic(x, r = r)\n",
    "\n",
    "wid = widgets.interact(\n",
    "    cs_play,\n",
    "    f1 = widgets.IntSlider(value = 5, min = 0, max = 25,),\n",
    "    a = widgets.FloatSlider(value = 1, min = 0.75, max = 1.25, step=0.01),\n",
    "    r = widgets.FloatSlider(value = 1, min = 0.75, max = 1.25, step=0.01),    \n",
    "    )"
   ]
  },
  {
   "cell_type": "markdown",
   "id": "74f4c90a-6831-4226-8a03-54c20bdfe8a8",
   "metadata": {},
   "source": [
    "**Expected Observation**: Least error is obtained when the chirp spectrum is measured at the radius of the sinusoid/pole. "
   ]
  },
  {
   "cell_type": "markdown",
   "id": "f7f85743-610e-4221-80b6-8793101e736c",
   "metadata": {},
   "source": [
    "# Three decaying sinusoids.\n",
    "- Leave f1, f2, f3 as such at 5, 10, 15 hz respectively.\n",
    "- Try the following values for a = \\[a1, a2, a3\\] and r, and observe what happens:\n",
    "    + \\[0.90, 0.98, 0.98\\], 1\n",
    "    + \\[0.90, 0.98, 0.98\\], 0.98\n",
    "    + \\[0.98, 0.98, 0.98\\], 0.98\n",
    "    + \\[0.98, 0.98, 0.98\\], 1\n",
    "    + \\[0.96, 0.97, 0.98\\], 1\n",
    "    + \\[0.96, 0.97, 0.98\\], 0.98"
   ]
  },
  {
   "cell_type": "code",
   "execution_count": null,
   "id": "7166c5a9-09c5-446a-b11a-6efb1fe3e94c",
   "metadata": {
    "editable": true,
    "slideshow": {
     "slide_type": ""
    },
    "tags": []
   },
   "outputs": [],
   "source": [
    "def cs_play(f1, a1, f2, a2, f3, a3, r):\n",
    "    x1, _ = generate_signal(fm = f1, a = a1)\n",
    "    x2, _ = generate_signal(fm = f2, a = a2)\n",
    "    x3, _ = generate_signal(fm = f3, a = a3)\n",
    "    x = x1 + x2 + x3\n",
    "    mag, ph = cs_basic(x, r = r)\n",
    "\n",
    "\n",
    "f1_s = widgets.IntSlider(value = 5, min = 0, max = 25)\n",
    "a1_s = widgets.FloatSlider(value = 1, min = 0.90, max = 1.10, step=0.01)\n",
    "f2_s = widgets.IntSlider(value = 10, min = 0, max = 25,)\n",
    "a2_s = widgets.FloatSlider(value = 1, min = 0.90, max = 1.10, step=0.01)\n",
    "f3_s = widgets.IntSlider(value = 15, min = 0, max = 25,)\n",
    "a3_s = widgets.FloatSlider(value = 1, min = 0.90, max = 1.10, step=0.01)\n",
    "r_s = widgets.FloatSlider(value = 1, min = 0.75, max = 1.25, step=0.01)\n",
    "\n",
    "wid = widgets.interact(cs_play, f1=f1_s, a1=a1_s, f2=f2_s, a2=a2_s, f3=f3_s, a3=a3_s, r=r_s)"
   ]
  },
  {
   "cell_type": "markdown",
   "id": "2c2a179f-2191-43ba-b7f8-656ec5a6e06d",
   "metadata": {},
   "source": [
    "**Expected Observation** Least error would be obtained when the radius of the chirp spectrum is the radius of the sinusoid with the maximum radius. "
   ]
  }
 ],
 "metadata": {
  "kernelspec": {
   "display_name": "Python 3 (ipykernel)",
   "language": "python",
   "name": "python3"
  },
  "language_info": {
   "codemirror_mode": {
    "name": "ipython",
    "version": 3
   },
   "file_extension": ".py",
   "mimetype": "text/x-python",
   "name": "python",
   "nbconvert_exporter": "python",
   "pygments_lexer": "ipython3",
   "version": "3.9.18"
  }
 },
 "nbformat": 4,
 "nbformat_minor": 5
}
