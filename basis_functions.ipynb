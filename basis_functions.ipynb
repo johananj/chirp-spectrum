{
 "cells": [
  {
   "cell_type": "markdown",
   "id": "ca8e6949-e2c5-4453-bfc1-2554b04ae952",
   "metadata": {},
   "source": [
    "# About\n",
    "- This notebook demonstrates the basis functions of the Z-Transform and the Fourier transform.\n",
    "- The basis functions of the Fourier transform result when $r = 1$ in the basis functions of the Z-transform\n",
    "- Euler's Formula states that:  \n",
    "    - $e^{j\\theta} = cos \\theta + j sin\\theta$ and  \n",
    "    - $e^{-j\\theta} = cos \\theta - j sin\\theta$"
   ]
  },
  {
   "cell_type": "code",
   "execution_count": null,
   "id": "e992c898-9712-45ed-b3e2-d5b9e5168847",
   "metadata": {},
   "outputs": [],
   "source": [
    "import numpy as np\n",
    "import matplotlib.pyplot as plt"
   ]
  },
  {
   "cell_type": "markdown",
   "id": "384909c5-72d9-4ddc-9218-13f326afa334",
   "metadata": {},
   "source": [
    "# Basis function of the DFT"
   ]
  },
  {
   "cell_type": "code",
   "execution_count": null,
   "id": "99e36845-2893-4b5f-a137-2ba09ad55391",
   "metadata": {
    "editable": true,
    "slideshow": {
     "slide_type": ""
    },
    "tags": []
   },
   "outputs": [],
   "source": [
    "f = 10\n",
    "num_samples = 500\n",
    "fs = 500\n",
    "r = 1\n",
    "n = np.arange(0,num_samples,1)\n",
    "w = 2*np.pi*(f/fs)\n",
    "bf = np.multiply((1/r**n), np.exp(-1j*w*n))\n",
    "\n",
    "fig, axs = plt.subplots(2, 1)\n",
    "fig.set_figwidth(10)\n",
    "axs[0].plot(np.real(bf))\n",
    "axs[0].title.set_text('Real')\n",
    "axs[1].plot(np.imag(bf))\n",
    "axs[1].title.set_text('Imaginary')\n",
    "plt.show()"
   ]
  },
  {
   "cell_type": "markdown",
   "id": "28de7e33-d974-43f8-974b-31bb3f6d184d",
   "metadata": {},
   "source": [
    "# Basis function of the IDFT"
   ]
  },
  {
   "cell_type": "code",
   "execution_count": null,
   "id": "d0f784b4-67c3-4df1-978c-3ba8305f3bb1",
   "metadata": {},
   "outputs": [],
   "source": [
    "f = 10\n",
    "num_samples = 500\n",
    "fs = 500\n",
    "r = 1\n",
    "n = np.arange(0,num_samples,1)\n",
    "w = 2*np.pi*(f/fs)\n",
    "bfi = np.multiply((1/r**n), np.exp(1j*w*n))\n",
    "\n",
    "fig, axs = plt.subplots(2, 1)\n",
    "fig.set_figwidth(10)\n",
    "axs[0].plot(np.real(bfi))\n",
    "axs[0].title.set_text('Real')\n",
    "axs[1].plot(np.imag(bfi))\n",
    "axs[1].title.set_text('Imaginary')\n",
    "plt.show()"
   ]
  },
  {
   "cell_type": "markdown",
   "id": "73b064ea-b4e4-4243-9ae3-e74dc1540370",
   "metadata": {},
   "source": [
    "- Multiplying the two basis functions results in 1 (obviously)"
   ]
  },
  {
   "cell_type": "code",
   "execution_count": null,
   "id": "8a2a7fa9-7bb9-4d58-953b-9178586eca8c",
   "metadata": {},
   "outputs": [],
   "source": [
    "np.multiply(bf,bfi)"
   ]
  }
 ],
 "metadata": {
  "kernelspec": {
   "display_name": "Python 3 (ipykernel)",
   "language": "python",
   "name": "python3"
  },
  "language_info": {
   "codemirror_mode": {
    "name": "ipython",
    "version": 3
   },
   "file_extension": ".py",
   "mimetype": "text/x-python",
   "name": "python",
   "nbconvert_exporter": "python",
   "pygments_lexer": "ipython3",
   "version": "3.9.18"
  }
 },
 "nbformat": 4,
 "nbformat_minor": 5
}
