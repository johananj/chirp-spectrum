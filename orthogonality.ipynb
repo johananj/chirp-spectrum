{
 "cells": [
  {
   "cell_type": "markdown",
   "id": "f5dd733e-618a-458d-aa79-2ac803d76f4d",
   "metadata": {},
   "source": [
    "# About\n",
    "- This noteboook shows the orthogonality of (co)sine waves.\n",
    "- Hence it shows the orthogonality of the basis functions of the Fourier transform."
   ]
  },
  {
   "cell_type": "code",
   "execution_count": null,
   "id": "859d04d0-e524-4463-8c99-6d703d6009af",
   "metadata": {
    "editable": true,
    "slideshow": {
     "slide_type": ""
    },
    "tags": []
   },
   "outputs": [],
   "source": [
    "import numpy as np\n",
    "import matplotlib.pyplot as plt\n",
    "from signal_analysis import *"
   ]
  },
  {
   "cell_type": "code",
   "execution_count": null,
   "id": "254c8098-d8e6-43d8-8d73-85807041aca6",
   "metadata": {},
   "outputs": [],
   "source": [
    "max_freq = 50\n",
    "xd = np.zeros((max_freq,max_freq))\n",
    "for f1 in range(max_freq):\n",
    "    for f2 in range(max_freq):\n",
    "        _, x1 = generate_signal(fm = f1)\n",
    "        _, x2 = generate_signal(fm = f2)\n",
    "        xd[f1,f2] = np.dot(x1,x2)"
   ]
  },
  {
   "cell_type": "code",
   "execution_count": null,
   "id": "c117ba99-2877-4108-b554-9178efe3a49a",
   "metadata": {},
   "outputs": [],
   "source": [
    "plt.imshow(xd)"
   ]
  }
 ],
 "metadata": {
  "kernelspec": {
   "display_name": "Python 3 (ipykernel)",
   "language": "python",
   "name": "python3"
  },
  "language_info": {
   "codemirror_mode": {
    "name": "ipython",
    "version": 3
   },
   "file_extension": ".py",
   "mimetype": "text/x-python",
   "name": "python",
   "nbconvert_exporter": "python",
   "pygments_lexer": "ipython3",
   "version": "3.9.18"
  }
 },
 "nbformat": 4,
 "nbformat_minor": 5
}
