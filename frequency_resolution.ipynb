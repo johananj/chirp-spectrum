{
 "cells": [
  {
   "cell_type": "markdown",
   "id": "d53aff47-b3dc-4bc5-91ea-77c55fa085f9",
   "metadata": {},
   "source": [
    "# About\n",
    "- This notebook deals with the issue of frequency resolution in Fourier transform.\n",
    "- Widgets here can be used to play with the signal frequency."
   ]
  },
  {
   "cell_type": "code",
   "execution_count": null,
   "id": "18f10ab2-45a8-4514-8e4a-b9c5e0ac8333",
   "metadata": {},
   "outputs": [],
   "source": [
    "import numpy as np\n",
    "import matplotlib.pyplot as plt\n",
    "from signal_analysis import *\n",
    "\n",
    "import ipywidgets as widgets\n",
    "from IPython.display import display"
   ]
  },
  {
   "cell_type": "markdown",
   "id": "85fd757e-8f90-4db1-94b3-fa0d67b74205",
   "metadata": {},
   "source": [
    "# Discrete Fourier Transform\n",
    "## Single Sinusoid\n",
    "- Consider a sinusoidal signal, as input.\n",
    "- Consider a DFT that has 6 bins between 0 and 25, that are centered at \\[0,5,10,15,20,25\\].\n",
    "- This DFT does not resolve frequencies that lie between the various center frequencies mentioned above.\n",
    "- In the demo below, try what happens when signal frequency is set to 5 or 10, and see what happens when its 6 or 12.\n",
    "- Change the value of num_bins to 25. Repeat the step above. See what happens."
   ]
  },
  {
   "cell_type": "code",
   "execution_count": null,
   "id": "d75cd372-2e5c-442e-9e3a-8ebb98094ab3",
   "metadata": {},
   "outputs": [],
   "source": [
    "def dft_play(inp_f):\n",
    "    _, x = generate_signal(fm = inp_f)\n",
    "    dft_basic(x, num_bins = 6)\n",
    "    \n",
    "wid = widgets.interact(\n",
    "    dft_play,\n",
    "    inp_f = widgets.IntSlider(value = 0, min = 0, max = 25, description=\"Signal Frequency\"))"
   ]
  },
  {
   "cell_type": "markdown",
   "id": "d5a47b6e-5bc0-4ca3-afff-35d303d0486c",
   "metadata": {},
   "source": [
    "## Three Sinusoids\n",
    "- The input is a sine wave. But you can change that to a cosine, and see what happens.\n",
    "- Lets try that with multiple frequencies.\n",
    "- Change the number of bins and see what happens again."
   ]
  },
  {
   "cell_type": "code",
   "execution_count": null,
   "id": "f8fd0247-077b-46a0-be63-b5260ae711da",
   "metadata": {},
   "outputs": [],
   "source": [
    "def dft_play(f1,f2,f3,num_bins):\n",
    "    _, x1 = generate_signal(fm = f1)\n",
    "    _, x2 = generate_signal(fm = f2)\n",
    "    _, x3 = generate_signal(fm = f3)\n",
    "    x = x1 + x2 + x3\n",
    "    dft_basic(x, num_bins = num_bins)\n",
    "    \n",
    "wid = widgets.interact(\n",
    "    dft_play,\n",
    "    f1 = widgets.IntSlider(value = 0, min = 0, max = 25,),\n",
    "    f2 = widgets.IntSlider(value = 0, min = 0, max = 25,),\n",
    "    f3 = widgets.IntSlider(value = 0, min = 0, max = 25,),\n",
    "    num_bins = widgets.IntSlider(value = 6, min = 0, max = 25,),\n",
    "    )"
   ]
  },
  {
   "cell_type": "markdown",
   "id": "dc9a50bf-6bb9-421e-87c6-ae88f3b18c6a",
   "metadata": {},
   "source": [
    "# Chirp Spectrum\n",
    "- Lets try that with an implementation of the Fourier transform equation, actually a chirp spectrum implementation with radius $r$ set to 1.\n",
    "- We will take this implementation forward to the other experiments below, as it helps us play with the radius more easily.\n",
    "- This time we plot the Magnitude and Phase spectrum. "
   ]
  },
  {
   "cell_type": "code",
   "execution_count": null,
   "id": "e2aefd27-1aba-41e6-94aa-761995a46248",
   "metadata": {},
   "outputs": [],
   "source": [
    "def cs_play(f1,f2,f3,num_bins):\n",
    "    _, x1 = generate_signal(fm = f1)\n",
    "    _, x2 = generate_signal(fm = f2)\n",
    "    _, x3 = generate_signal(fm = f3)\n",
    "    x = x1 + x2 + x3\n",
    "    mag, ph = cs_basic(x, num_bins = num_bins)\n",
    "\n",
    "wid = widgets.interact(\n",
    "    cs_play,\n",
    "    f1 = widgets.IntSlider(value = 0, min = 0, max = 25,),\n",
    "    f2 = widgets.IntSlider(value = 0, min = 0, max = 25,),\n",
    "    f3 = widgets.IntSlider(value = 0, min = 0, max = 25,),\n",
    "    num_bins = widgets.IntSlider(value = 6, min = 0, max = 25,),\n",
    "    )"
   ]
  }
 ],
 "metadata": {
  "kernelspec": {
   "display_name": "Python 3 (ipykernel)",
   "language": "python",
   "name": "python3"
  },
  "language_info": {
   "codemirror_mode": {
    "name": "ipython",
    "version": 3
   },
   "file_extension": ".py",
   "mimetype": "text/x-python",
   "name": "python",
   "nbconvert_exporter": "python",
   "pygments_lexer": "ipython3",
   "version": "3.9.18"
  }
 },
 "nbformat": 4,
 "nbformat_minor": 5
}
